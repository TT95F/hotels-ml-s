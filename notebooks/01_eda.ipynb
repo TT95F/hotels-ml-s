{
 "cells": [
  {
   "cell_type": "markdown",
   "id": "43f74c07",
   "metadata": {},
   "source": [
    "# EDA Dataset Hotels"
   ]
  },
  {
   "cell_type": "markdown",
   "id": "f1b8ff42",
   "metadata": {},
   "source": [
    "## Dataset"
   ]
  },
  {
   "cell_type": "markdown",
   "id": "e57ac57c",
   "metadata": {},
   "source": [
    "Ce jeu de données est issu du site tidymodels.\n",
    "\n",
    "Je reprends leur description :\n",
    "\"Let’s use hotel bookings data from Antonio, Almeida, and Nunes (2019) to predict which hotel stays included children and/or babies, based on the other characteristics of the stays such as which hotel the guests stay at, how much they pay, etc. This was also a #TidyTuesday dataset with a data dictionary you may want to look over to learn more about the variables. We’ll use a slightly edited version of the dataset for this case study.\"\n",
    "\n"
   ]
  },
  {
   "cell_type": "markdown",
   "id": "05fd0354",
   "metadata": {},
   "source": [
    "#### Import du jeu de données"
   ]
  },
  {
   "cell_type": "code",
   "execution_count": 14,
   "id": "8f054d66",
   "metadata": {},
   "outputs": [
    {
     "name": "stdout",
     "output_type": "stream",
     "text": [
      "(50000, 23)\n"
     ]
    },
    {
     "data": {
      "text/html": [
       "<div>\n",
       "<style scoped>\n",
       "    .dataframe tbody tr th:only-of-type {\n",
       "        vertical-align: middle;\n",
       "    }\n",
       "\n",
       "    .dataframe tbody tr th {\n",
       "        vertical-align: top;\n",
       "    }\n",
       "\n",
       "    .dataframe thead th {\n",
       "        text-align: right;\n",
       "    }\n",
       "</style>\n",
       "<table border=\"1\" class=\"dataframe\">\n",
       "  <thead>\n",
       "    <tr style=\"text-align: right;\">\n",
       "      <th></th>\n",
       "      <th>hotel</th>\n",
       "      <th>lead_time</th>\n",
       "      <th>stays_in_weekend_nights</th>\n",
       "      <th>stays_in_week_nights</th>\n",
       "      <th>adults</th>\n",
       "      <th>children</th>\n",
       "      <th>meal</th>\n",
       "      <th>country</th>\n",
       "      <th>market_segment</th>\n",
       "      <th>distribution_channel</th>\n",
       "      <th>...</th>\n",
       "      <th>reserved_room_type</th>\n",
       "      <th>assigned_room_type</th>\n",
       "      <th>booking_changes</th>\n",
       "      <th>deposit_type</th>\n",
       "      <th>days_in_waiting_list</th>\n",
       "      <th>customer_type</th>\n",
       "      <th>average_daily_rate</th>\n",
       "      <th>required_car_parking_spaces</th>\n",
       "      <th>total_of_special_requests</th>\n",
       "      <th>arrival_date</th>\n",
       "    </tr>\n",
       "  </thead>\n",
       "  <tbody>\n",
       "    <tr>\n",
       "      <th>0</th>\n",
       "      <td>City_Hotel</td>\n",
       "      <td>217</td>\n",
       "      <td>1</td>\n",
       "      <td>3</td>\n",
       "      <td>2</td>\n",
       "      <td>none</td>\n",
       "      <td>BB</td>\n",
       "      <td>DEU</td>\n",
       "      <td>Offline_TA/TO</td>\n",
       "      <td>TA/TO</td>\n",
       "      <td>...</td>\n",
       "      <td>A</td>\n",
       "      <td>A</td>\n",
       "      <td>0</td>\n",
       "      <td>No_Deposit</td>\n",
       "      <td>0</td>\n",
       "      <td>Transient-Party</td>\n",
       "      <td>80.75</td>\n",
       "      <td>none</td>\n",
       "      <td>1</td>\n",
       "      <td>2016-09-01</td>\n",
       "    </tr>\n",
       "    <tr>\n",
       "      <th>1</th>\n",
       "      <td>City_Hotel</td>\n",
       "      <td>2</td>\n",
       "      <td>0</td>\n",
       "      <td>1</td>\n",
       "      <td>2</td>\n",
       "      <td>none</td>\n",
       "      <td>BB</td>\n",
       "      <td>PRT</td>\n",
       "      <td>Direct</td>\n",
       "      <td>Direct</td>\n",
       "      <td>...</td>\n",
       "      <td>D</td>\n",
       "      <td>K</td>\n",
       "      <td>0</td>\n",
       "      <td>No_Deposit</td>\n",
       "      <td>0</td>\n",
       "      <td>Transient</td>\n",
       "      <td>170.00</td>\n",
       "      <td>none</td>\n",
       "      <td>3</td>\n",
       "      <td>2017-08-25</td>\n",
       "    </tr>\n",
       "    <tr>\n",
       "      <th>2</th>\n",
       "      <td>Resort_Hotel</td>\n",
       "      <td>95</td>\n",
       "      <td>2</td>\n",
       "      <td>5</td>\n",
       "      <td>2</td>\n",
       "      <td>none</td>\n",
       "      <td>BB</td>\n",
       "      <td>GBR</td>\n",
       "      <td>Online_TA</td>\n",
       "      <td>TA/TO</td>\n",
       "      <td>...</td>\n",
       "      <td>A</td>\n",
       "      <td>A</td>\n",
       "      <td>2</td>\n",
       "      <td>No_Deposit</td>\n",
       "      <td>0</td>\n",
       "      <td>Transient</td>\n",
       "      <td>8.00</td>\n",
       "      <td>none</td>\n",
       "      <td>2</td>\n",
       "      <td>2016-11-19</td>\n",
       "    </tr>\n",
       "    <tr>\n",
       "      <th>3</th>\n",
       "      <td>Resort_Hotel</td>\n",
       "      <td>143</td>\n",
       "      <td>2</td>\n",
       "      <td>6</td>\n",
       "      <td>2</td>\n",
       "      <td>none</td>\n",
       "      <td>HB</td>\n",
       "      <td>ROU</td>\n",
       "      <td>Online_TA</td>\n",
       "      <td>TA/TO</td>\n",
       "      <td>...</td>\n",
       "      <td>A</td>\n",
       "      <td>A</td>\n",
       "      <td>0</td>\n",
       "      <td>No_Deposit</td>\n",
       "      <td>0</td>\n",
       "      <td>Transient</td>\n",
       "      <td>81.00</td>\n",
       "      <td>none</td>\n",
       "      <td>1</td>\n",
       "      <td>2016-04-26</td>\n",
       "    </tr>\n",
       "    <tr>\n",
       "      <th>4</th>\n",
       "      <td>Resort_Hotel</td>\n",
       "      <td>136</td>\n",
       "      <td>1</td>\n",
       "      <td>4</td>\n",
       "      <td>2</td>\n",
       "      <td>none</td>\n",
       "      <td>HB</td>\n",
       "      <td>PRT</td>\n",
       "      <td>Direct</td>\n",
       "      <td>Direct</td>\n",
       "      <td>...</td>\n",
       "      <td>F</td>\n",
       "      <td>F</td>\n",
       "      <td>0</td>\n",
       "      <td>No_Deposit</td>\n",
       "      <td>0</td>\n",
       "      <td>Transient</td>\n",
       "      <td>157.60</td>\n",
       "      <td>none</td>\n",
       "      <td>4</td>\n",
       "      <td>2016-12-28</td>\n",
       "    </tr>\n",
       "  </tbody>\n",
       "</table>\n",
       "<p>5 rows × 23 columns</p>\n",
       "</div>"
      ],
      "text/plain": [
       "          hotel  lead_time  stays_in_weekend_nights  stays_in_week_nights  \\\n",
       "0    City_Hotel        217                        1                     3   \n",
       "1    City_Hotel          2                        0                     1   \n",
       "2  Resort_Hotel         95                        2                     5   \n",
       "3  Resort_Hotel        143                        2                     6   \n",
       "4  Resort_Hotel        136                        1                     4   \n",
       "\n",
       "   adults children meal country market_segment distribution_channel  ...  \\\n",
       "0       2     none   BB     DEU  Offline_TA/TO                TA/TO  ...   \n",
       "1       2     none   BB     PRT         Direct               Direct  ...   \n",
       "2       2     none   BB     GBR      Online_TA                TA/TO  ...   \n",
       "3       2     none   HB     ROU      Online_TA                TA/TO  ...   \n",
       "4       2     none   HB     PRT         Direct               Direct  ...   \n",
       "\n",
       "   reserved_room_type  assigned_room_type  booking_changes deposit_type  \\\n",
       "0                   A                   A                0   No_Deposit   \n",
       "1                   D                   K                0   No_Deposit   \n",
       "2                   A                   A                2   No_Deposit   \n",
       "3                   A                   A                0   No_Deposit   \n",
       "4                   F                   F                0   No_Deposit   \n",
       "\n",
       "  days_in_waiting_list    customer_type average_daily_rate  \\\n",
       "0                    0  Transient-Party              80.75   \n",
       "1                    0        Transient             170.00   \n",
       "2                    0        Transient               8.00   \n",
       "3                    0        Transient              81.00   \n",
       "4                    0        Transient             157.60   \n",
       "\n",
       "   required_car_parking_spaces total_of_special_requests  arrival_date  \n",
       "0                         none                         1    2016-09-01  \n",
       "1                         none                         3    2017-08-25  \n",
       "2                         none                         2    2016-11-19  \n",
       "3                         none                         1    2016-04-26  \n",
       "4                         none                         4    2016-12-28  \n",
       "\n",
       "[5 rows x 23 columns]"
      ]
     },
     "execution_count": 14,
     "metadata": {},
     "output_type": "execute_result"
    }
   ],
   "source": [
    "import sys\n",
    "sys.path.append(\"../scripts\")   # car ton notebook est dans notebooks/\n",
    "\n",
    "import utils\n",
    "\n",
    "import pandas as pd\n",
    "\n",
    "df = pd.read_csv(\"../data/raw/hotels.csv\")\n",
    "print(df.shape)\n",
    "df.head()"
   ]
  },
  {
   "cell_type": "code",
   "execution_count": 15,
   "id": "b097d47f",
   "metadata": {},
   "outputs": [
    {
     "name": "stdout",
     "output_type": "stream",
     "text": [
      "<class 'pandas.core.frame.DataFrame'>\n",
      "RangeIndex: 50000 entries, 0 to 49999\n",
      "Data columns (total 23 columns):\n",
      " #   Column                          Non-Null Count  Dtype  \n",
      "---  ------                          --------------  -----  \n",
      " 0   hotel                           50000 non-null  object \n",
      " 1   lead_time                       50000 non-null  int64  \n",
      " 2   stays_in_weekend_nights         50000 non-null  int64  \n",
      " 3   stays_in_week_nights            50000 non-null  int64  \n",
      " 4   adults                          50000 non-null  int64  \n",
      " 5   children                        50000 non-null  object \n",
      " 6   meal                            50000 non-null  object \n",
      " 7   country                         49711 non-null  object \n",
      " 8   market_segment                  50000 non-null  object \n",
      " 9   distribution_channel            50000 non-null  object \n",
      " 10  is_repeated_guest               50000 non-null  int64  \n",
      " 11  previous_cancellations          50000 non-null  int64  \n",
      " 12  previous_bookings_not_canceled  50000 non-null  int64  \n",
      " 13  reserved_room_type              50000 non-null  object \n",
      " 14  assigned_room_type              50000 non-null  object \n",
      " 15  booking_changes                 50000 non-null  int64  \n",
      " 16  deposit_type                    50000 non-null  object \n",
      " 17  days_in_waiting_list            50000 non-null  int64  \n",
      " 18  customer_type                   50000 non-null  object \n",
      " 19  average_daily_rate              50000 non-null  float64\n",
      " 20  required_car_parking_spaces     50000 non-null  object \n",
      " 21  total_of_special_requests       50000 non-null  int64  \n",
      " 22  arrival_date                    50000 non-null  object \n",
      "dtypes: float64(1), int64(10), object(12)\n",
      "memory usage: 8.8+ MB\n"
     ]
    }
   ],
   "source": [
    "df.info()"
   ]
  },
  {
   "cell_type": "markdown",
   "id": "2d9ddf96",
   "metadata": {},
   "source": [
    "Contrairement au langage R qui permet via la commande glimpse de détecter automatiquement ce qui releève du string et du factor, en python nous travaillons avec object. \n",
    "dans une perspective d'utiliser ultérieuement des encoders, on reproduit l'approche tidymodels de R.\n"
   ]
  },
  {
   "cell_type": "markdown",
   "id": "95d7289d",
   "metadata": {},
   "source": []
  },
  {
   "cell_type": "code",
   "execution_count": 16,
   "id": "4cad85ca",
   "metadata": {},
   "outputs": [
    {
     "name": "stdout",
     "output_type": "stream",
     "text": [
      "hotel                      category\n",
      "lead_time                     int64\n",
      "stays_in_weekend_nights       int64\n",
      "stays_in_week_nights          int64\n",
      "adults                        int64\n",
      "children                   category\n",
      "meal                       category\n",
      "country                    category\n",
      "market_segment             category\n",
      "distribution_channel       category\n",
      "dtype: object\n"
     ]
    }
   ],
   "source": [
    "for col in df.select_dtypes(include=\"object\").columns:\n",
    "    df[col] = df[col].astype(\"category\")\n",
    "print(df.dtypes.head(10))"
   ]
  },
  {
   "cell_type": "markdown",
   "id": "b57bb798",
   "metadata": {},
   "source": [
    "On émule le glimpse de R"
   ]
  },
  {
   "cell_type": "code",
   "execution_count": 17,
   "id": "1da6acb6",
   "metadata": {},
   "outputs": [
    {
     "name": "stdout",
     "output_type": "stream",
     "text": [
      "Rows: 50000 | Columns: 23\n",
      "\n",
      "hotel                     category   non-null: 50000  unique: 2      preview: ['City_Hotel', 'Resort_Hotel']\n",
      "Categories (2, object): ['City_Hotel', 'Resort_Hotel']\n",
      "lead_time                 int64      non-null: 50000  unique: 414    preview: [217   2  95 143 136]\n",
      "stays_in_weekend_nights   int64      non-null: 50000  unique: 17     preview: [1 0 2 4 3]\n",
      "stays_in_week_nights      int64      non-null: 50000  unique: 31     preview: [3 1 5 6 4]\n",
      "adults                    int64      non-null: 50000  unique: 5      preview: [2 0 1 3 4]\n",
      "children                  category   non-null: 50000  unique: 2      preview: ['none', 'children']\n",
      "Categories (2, object): ['children', 'none']\n",
      "meal                      category   non-null: 50000  unique: 5      preview: ['BB', 'HB', 'SC', 'Undefined', 'FB']\n",
      "Categories (5, object): ['BB', 'FB', 'HB', 'SC', 'Undefined']\n",
      "country                   category   non-null: 49711  unique: 154    preview: ['DEU', 'PRT', 'GBR', 'ROU', 'ESP']\n",
      "Categories (154, object): ['AGO', 'AIA', 'ALB', 'AND', ..., 'VNM', 'ZAF', 'ZMB', 'ZWE']\n",
      "market_segment            category   non-null: 50000  unique: 7      preview: ['Offline_TA/TO', 'Direct', 'Online_TA', 'Corporate', 'Groups']\n",
      "Categories (7, object): ['Aviation', 'Complementary', 'Corporate', 'Direct', 'Groups', 'Offline_TA/TO', 'Online_TA']\n",
      "distribution_channel      category   non-null: 50000  unique: 5      preview: ['TA/TO', 'Direct', 'Corporate', 'GDS', 'Undefined']\n",
      "Categories (5, object): ['Corporate', 'Direct', 'GDS', 'TA/TO', 'Undefined']\n",
      "is_repeated_guest         int64      non-null: 50000  unique: 2      preview: [0 1]\n",
      "previous_cancellations    int64      non-null: 50000  unique: 9      preview: [0 1 4 2 5]\n",
      "previous_bookings_not_canceled int64      non-null: 50000  unique: 57     preview: [0 1 2 3 9]\n",
      "reserved_room_type        category   non-null: 50000  unique: 9      preview: ['A', 'D', 'F', 'C', 'B']\n",
      "Categories (9, object): ['A', 'B', 'C', 'D', ..., 'F', 'G', 'H', 'L']\n",
      "assigned_room_type        category   non-null: 50000  unique: 10     preview: ['A', 'K', 'F', 'C', 'D']\n",
      "Categories (10, object): ['A', 'B', 'C', 'D', ..., 'G', 'H', 'I', 'K']\n",
      "booking_changes           int64      non-null: 50000  unique: 19     preview: [0 2 4 1 3]\n",
      "deposit_type              category   non-null: 50000  unique: 3      preview: ['No_Deposit', 'Refundable', 'Non_Refund']\n",
      "Categories (3, object): ['No_Deposit', 'Non_Refund', 'Refundable']\n",
      "days_in_waiting_list      int64      non-null: 50000  unique: 92     preview: [  0 236 122  58 150]\n",
      "customer_type             category   non-null: 50000  unique: 4      preview: ['Transient-Party', 'Transient', 'Contract', 'Group']\n",
      "Categories (4, object): ['Contract', 'Group', 'Transient', 'Transient-Party']\n",
      "average_daily_rate        float64    non-null: 50000  unique: 6173   preview: [ 80.75 170.     8.    81.   157.6 ]\n",
      "required_car_parking_spaces category   non-null: 50000  unique: 2      preview: ['none', 'parking']\n",
      "Categories (2, object): ['none', 'parking']\n",
      "total_of_special_requests int64      non-null: 50000  unique: 6      preview: [1 3 2 4 0]\n",
      "arrival_date              category   non-null: 50000  unique: 793    preview: ['2016-09-01', '2017-08-25', '2016-11-19', '2016-04-26', '2016-12-28']\n",
      "Categories (793, object): ['2015-07-01', '2015-07-02', '2015-07-03', '2015-07-04', ..., '2017-08-28', '2017-08-29', '2017-08-30', '2017-08-31']\n"
     ]
    }
   ],
   "source": [
    "utils.glimpse(df)"
   ]
  },
  {
   "cell_type": "code",
   "execution_count": 18,
   "id": "5fd86413",
   "metadata": {},
   "outputs": [
    {
     "data": {
      "text/plain": [
       "' from pathlib import Path\\nimport pandas as pd\\nimport time\\n\\n# 1) S\\'assurer que le dossier existe\\nout_dir = Path(\"../data/processed\")\\nout_dir.mkdir(parents=True, exist_ok=True)\\n\\n# 2) Nom de fichier (si verrou, on suffixe l’heure)\\nout_path = out_dir / \"hotels_clean.xlsx\"\\nif out_path.exists():\\n    try:\\n        out_path.rename(out_path)  # test de lock: si ça échoue, on renomme plus bas\\n    except Exception:\\n        ts = time.strftime(\"%Y%m%d-%H%M%S\")\\n        out_path = out_dir / f\"hotels_clean_{ts}.xlsx\"\\n\\n# 3) Écriture explicite avec openpyxl et handle propre\\nwith pd.ExcelWriter(out_path, engine=\"openpyxl\", mode=\"w\") as writer:\\n    df.to_excel(writer, index=False)\\n\\nprint(f\"✅ Fichier enregistré : {out_path}\") '"
      ]
     },
     "execution_count": 18,
     "metadata": {},
     "output_type": "execute_result"
    }
   ],
   "source": [
    "\"\"\" from pathlib import Path\n",
    "import pandas as pd\n",
    "import time\n",
    "\n",
    "# 1) S'assurer que le dossier existe\n",
    "out_dir = Path(\"../data/processed\")\n",
    "out_dir.mkdir(parents=True, exist_ok=True)\n",
    "\n",
    "# 2) Nom de fichier (si verrou, on suffixe l’heure)\n",
    "out_path = out_dir / \"hotels_clean.xlsx\"\n",
    "if out_path.exists():\n",
    "    try:\n",
    "        out_path.rename(out_path)  # test de lock: si ça échoue, on renomme plus bas\n",
    "    except Exception:\n",
    "        ts = time.strftime(\"%Y%m%d-%H%M%S\")\n",
    "        out_path = out_dir / f\"hotels_clean_{ts}.xlsx\"\n",
    "\n",
    "# 3) Écriture explicite avec openpyxl et handle propre\n",
    "with pd.ExcelWriter(out_path, engine=\"openpyxl\", mode=\"w\") as writer:\n",
    "    df.to_excel(writer, index=False)\n",
    "\n",
    "print(f\"✅ Fichier enregistré : {out_path}\") \"\"\""
   ]
  },
  {
   "cell_type": "markdown",
   "id": "15727b69",
   "metadata": {},
   "source": [
    "## Premère analyse exploratoire avec le jeu de données sauvegardé"
   ]
  },
  {
   "cell_type": "code",
   "execution_count": 19,
   "id": "6b8e561e",
   "metadata": {},
   "outputs": [],
   "source": [
    "# Import du dataset avec les facteurs\n",
    "\n",
    "df_excel = pd.read_excel(\"../data/processed/hotels_clean.xlsx\")"
   ]
  },
  {
   "cell_type": "markdown",
   "id": "9e4616c7",
   "metadata": {},
   "source": [
    "Matrice des enfants et proportion en python"
   ]
  },
  {
   "cell_type": "code",
   "execution_count": 20,
   "id": "4bd9254e",
   "metadata": {},
   "outputs": [
    {
     "data": {
      "text/html": [
       "<div>\n",
       "<style scoped>\n",
       "    .dataframe tbody tr th:only-of-type {\n",
       "        vertical-align: middle;\n",
       "    }\n",
       "\n",
       "    .dataframe tbody tr th {\n",
       "        vertical-align: top;\n",
       "    }\n",
       "\n",
       "    .dataframe thead th {\n",
       "        text-align: right;\n",
       "    }\n",
       "</style>\n",
       "<table border=\"1\" class=\"dataframe\">\n",
       "  <thead>\n",
       "    <tr style=\"text-align: right;\">\n",
       "      <th></th>\n",
       "      <th>count</th>\n",
       "      <th>proportion</th>\n",
       "    </tr>\n",
       "    <tr>\n",
       "      <th>children</th>\n",
       "      <th></th>\n",
       "      <th></th>\n",
       "    </tr>\n",
       "  </thead>\n",
       "  <tbody>\n",
       "    <tr>\n",
       "      <th>children</th>\n",
       "      <td>4038</td>\n",
       "      <td>0.08076</td>\n",
       "    </tr>\n",
       "    <tr>\n",
       "      <th>none</th>\n",
       "      <td>45962</td>\n",
       "      <td>0.91924</td>\n",
       "    </tr>\n",
       "  </tbody>\n",
       "</table>\n",
       "</div>"
      ],
      "text/plain": [
       "          count  proportion\n",
       "children                   \n",
       "children   4038     0.08076\n",
       "none      45962     0.91924"
      ]
     },
     "execution_count": 20,
     "metadata": {},
     "output_type": "execute_result"
    }
   ],
   "source": [
    "utils.matrice_display(df, \"children\")"
   ]
  },
  {
   "cell_type": "markdown",
   "id": "6e0aab6e",
   "metadata": {},
   "source": [
    "Première analyse :\n",
    "\n",
    "Un chausse trape classique dans les jeux de données et la création de modèle, est la fameuse \"class imbalance\" ou déséquilibre de classes.\n",
    "Dans ce cas, 92% des réservations ne contiennent pas d'enfants.\n",
    "\n",
    "Ceci va forcément affecter les modèles de prédiction si ce n'est pas traiter. \n",
    "\n",
    "Plusieurs stratégies sont envisageables pour traiter les déséquilibres et nécessiteraient aussi de vérifier la distribution sur d'autres colonnes.\n",
    "- Resampling : avec soit un oversampling de la minorite soit le contraire un undersampling. \n",
    "- Pondération de la perte de la classe minoritaire en régression logistique ou RandomForest\n",
    "- Encoder aussi pour le traitement plus tard (0 ou 1) en feature engineering\n",
    "- compléter si possible le jeu de données minoritaire, uniquement si c'est pertinent et réaliste\n"
   ]
  },
  {
   "cell_type": "markdown",
   "id": "23fe6405",
   "metadata": {},
   "source": [
    "Avant de procéder à du resampling et du splitting, poursuivons notre exploration rapide du dataset."
   ]
  },
  {
   "cell_type": "markdown",
   "id": "fbb76aa0",
   "metadata": {},
   "source": [
    "### Exploration visuelle avec seaborn"
   ]
  },
  {
   "cell_type": "markdown",
   "id": "c5a99678",
   "metadata": {},
   "source": [
    "#### Exploration des champs numériques"
   ]
  },
  {
   "cell_type": "code",
   "execution_count": 21,
   "id": "3837175e",
   "metadata": {},
   "outputs": [
    {
     "data": {
      "image/png": "[encoded data removed]",
      "text/plain": [
       "<Figure size 640x480 with 1 Axes>"
      ]
     },
     "metadata": {},
     "output_type": "display_data"
    }
   ],
   "source": [
    "import seaborn as sns\n",
    "import matplotlib.pyplot as plt\n",
    "\n",
    "# Histogramme avec kernel density\n",
    "sns.histplot(df[\"lead_time\"], bins=50, kde=True)\n",
    "plt.title(\"Distribution de lead_time\")\n",
    "plt.show()\n",
    "\n"
   ]
  },
  {
   "cell_type": "markdown",
   "id": "5b893b18",
   "metadata": {},
   "source": [
    "C’est un indicateur classique en hôtellerie / tourisme : plus le lead time est grand, plus le client a eu le temps de comparer et plus le risque d’annulation peut être élevé.\n",
    "Le graphe met en évidence :\n",
    "- Un énorme pic autour de 0–10 jours → beaucoup de réservations faites à la dernière minute.\n",
    "- Une distribution très asymétrique (skewed right) → longue traîne jusqu’à plus de 700 jours (≈ 2 ans d’avance).\n",
    "- Que la plupart des clients réservent moins de 100 jours avant leur arrivée.\n",
    "\n",
    "Interprétaion Business envisageable :\n",
    "- Les réservations de dernière minute sont dominantes → probablement clientèle locale ou opportuniste.\n",
    "- Les réservations très anticipées (200–700 jours) sont rares, mais souvent associées à des groupes, des congrès, ou des voyageurs internationaux qui planifient très longtemps à l’avance.\n",
    "\n",
    "Pour la modélisation (is_canceled) :\n",
    "- Plus le lead_time est grand, plus la probabilité d’annulation est élevée (on pourra vérifier via un boxplot/violin plot).\n",
    "- Les très courts lead_time (0–7 jours) sont en général beaucoup plus stables (moins d’annulations).\n"
   ]
  },
  {
   "cell_type": "code",
   "execution_count": 29,
   "id": "869d5b71",
   "metadata": {},
   "outputs": [
    {
     "name": "stderr",
     "output_type": "stream",
     "text": [
      "/var/folders/cy/g5387q010fs09y6zwn2qh7l80000gn/T/ipykernel_91177/1575754794.py:10: FutureWarning: \n",
      "\n",
      "Passing `palette` without assigning `hue` is deprecated and will be removed in v0.14.0. Assign the `y` variable to `hue` and set `legend=False` for the same effect.\n",
      "\n",
      "  sns.boxplot(\n"
     ]
    },
    {
     "data": {
      "image/png": "[encoded data removed]",
      "text/plain": [
       "<Figure size 700x1000 with 1 Axes>"
      ]
     },
     "metadata": {},
     "output_type": "display_data"
    }
   ],
   "source": [
    "import seaborn as sns\n",
    "import matplotlib.pyplot as plt\n",
    "\n",
    "sns.set_theme(style=\"ticks\")\n",
    "\n",
    "# Initialiser la figure\n",
    "f, ax = plt.subplots(figsize=(7, 10))\n",
    "\n",
    "# Boxplots horizontaux\n",
    "sns.boxplot(\n",
    "    data=df,\n",
    "    x=\"lead_time\", \n",
    "    y=\"children\",\n",
    "    whis=[0, 100],     # whiskers = min/max\n",
    "    width=0.6,\n",
    "    palette=\"vlag\",\n",
    "    ax=ax\n",
    ")\n",
    "\n",
    "# Ajouter les points d'observation (échantillon pour éviter de ramer)\n",
    "df_sample = df.sample(2000, random_state=42)\n",
    "sns.stripplot(\n",
    "    data=df_sample,\n",
    "    x=\"lead_time\", \n",
    "    y=\"children\",\n",
    "    size=3, color=\".3\", alpha=0.3, jitter=True, ax=ax\n",
    ")\n",
    "\n",
    "# Présentation visuelle\n",
    "ax.grid(True, axis=\"x\")\n",
    "ax.set(xlabel=\"lead_time\", ylabel=\"children\")\n",
    "sns.despine(trim=True, left=True)\n",
    "\n",
    "plt.title(\"Lead time par présence d'enfants — boxplot + observations\", fontsize=12)\n",
    "plt.xlim(0, 200)   # zoom utile\n",
    "plt.show()"
   ]
  },
  {
   "cell_type": "markdown",
   "id": "3517c648",
   "metadata": {},
   "source": [
    "Constats visibles :\n",
    "\n",
    "1.  Beaucoup d’outliers\n",
    "    - Les valeurs de lead_time au-delà de 365 jours (voire 700) sont rares mais présentes.\n",
    "\t- C’est normal : certaines réservations très anticipées existent (ex. congrès, mariages, tours opérateurs).\n",
    "\t- Côté modélisation : tu devras arbitrer → les garder (signal métier rare) ou les tronquer (bruit).\n",
    "2.  Médiane et IQR quasi identiques entre “children” et “none”\n",
    "\t- Ça veut dire que, dans ce dataset, la présence d’enfants n’influence pas le délai de réservation.\n",
    "\t- Ce n’est pas à priori pas une erreur : statistiquement, les distributions sont très proches.\n",
    "\t- La différence éventuelle se joue dans les “queues” (outliers), pas dans le cœur de la distribution.\n",
    "\n",
    "Constats visuels confirmés par le nuage de points : \n",
    "\n",
    "Déséquilibre de classe\n",
    "\n",
    "- Il ya beaucoup plus d’observations dans la modalité none (pas d’enfants) que dans children.\n",
    "- Visuellement, on voit un nuage dense en bas et plus clair en haut → reflet direct du class imbalance déjà quantifié (≈ 92% vs 8%).\n",
    "\n",
    "Distributions de lead_time assez proches\n",
    "- Les médianes et IQR sont très similaires entre les deux groupes.\n",
    "- Cela confirme ce qu’on observait : la présence d’enfants n’influence pas vraiment le délai de réservation.\n",
    "- Les  différences se trouvent surtout dans les extrêmes (outliers), mais le cœur est identique.\n",
    "\n",
    "⸻\n",
    "\n",
    "Interprétation métier pour la modélisation,ça veut dire:\n",
    "\n",
    "- Peu de signal discriminant : children n’apportera probablement pas grand-chose pour prédire is_canceled.\n",
    "- Class imbalance : si on utilise cette variable comme cible (ou combinée), il faudra corriger via pondération/échantillonnage.\n",
    "\n",
    "⸻\n",
    "\n",
    "Pour aller plus loin ?\n",
    "\n",
    "- Croiser children avec is_canceled → voir si, malgré le déséquilibre, les familles annulent plus/moins souvent.\n",
    "- Croiser avec hotel ou market_segment → peut-être que la différence apparaît seulement dans certains segments (ex. Resort Hotel + enfants).\n",
    "- Passer à une ECDF (courbe cumulative) pour comparer plus finement les distributions de lead_time."
   ]
  },
  {
   "cell_type": "code",
   "execution_count": null,
   "id": "885d3070",
   "metadata": {},
   "outputs": [],
   "source": []
  }
 ],
 "metadata": {
  "kernelspec": {
   "display_name": ".venv",
   "language": "python",
   "name": "python3"
  },
  "language_info": {
   "codemirror_mode": {
    "name": "ipython",
    "version": 3
   },
   "file_extension": ".py",
   "mimetype": "text/x-python",
   "name": "python",
   "nbconvert_exporter": "python",
   "pygments_lexer": "ipython3",
   "version": "3.13.1"
  }
 },
 "nbformat": 4,
 "nbformat_minor": 5
}
